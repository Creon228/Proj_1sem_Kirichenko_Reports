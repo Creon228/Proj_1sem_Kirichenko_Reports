{
  "nbformat": 4,
  "nbformat_minor": 0,
  "metadata": {
    "colab": {
      "name": "Untitled2.ipynb",
      "provenance": [],
      "authorship_tag": "ABX9TyNFj7p3ewI7f28tiHPEr3ms",
      "include_colab_link": true
    },
    "kernelspec": {
      "name": "python3",
      "display_name": "Python 3"
    },
    "language_info": {
      "name": "python"
    }
  },
  "cells": [
    {
      "cell_type": "markdown",
      "metadata": {
        "id": "view-in-github",
        "colab_type": "text"
      },
      "source": [
        "<a href=\"https://colab.research.google.com/github/Creon228/Proj_1sem_Kirichenko_Reports/blob/main/PZ_11.ipynb\" target=\"_parent\"><img src=\"https://colab.research.google.com/assets/colab-badge.svg\" alt=\"Open In Colab\"/></a>"
      ]
    },
    {
      "cell_type": "code",
      "execution_count": 1,
      "metadata": {
        "colab": {
          "base_uri": "https://localhost:8080/"
        },
        "id": "bQiy321hBqx9",
        "outputId": "3ffc65f8-e3ad-4a4e-8bcc-bb424e0334db"
      },
      "outputs": [
        {
          "output_type": "stream",
          "name": "stdout",
          "text": [
            "Введите первое число3\n",
            "Введите второе число4\n",
            "Высказывание неверно\n"
          ]
        }
      ],
      "source": [
        "#Практическая работа №3\n",
        "#Вариант 8\n",
        "#Даны два целых числа: A, B. Проверить истинность высказывания: «Каждое из чисел A и B нечетное».\n",
        "\n",
        "import math\n",
        "def proverka(c):   #проверяющая функция\n",
        "    while type(c) != int:\n",
        "        try:\n",
        "            c = int(c)\n",
        "        except ValueError:\n",
        "            print(\"Вы ввели некорректное значение\")\n",
        "            c = input(\"Введите значение заново\")\n",
        "    else:\n",
        "        return c\n",
        "a = input(\"Введите первое число\")   #Ввод исходных данных\n",
        "a = proverka(a)\n",
        "b = input(\"Введите второе число\")\n",
        "b= proverka(b)\n",
        "if (a//2==0 & b//2==0):   #сравнение значений\n",
        "    print(\"Выссказывание верно\")\n",
        "else :\n",
        "    print(\"Высказывание неверно\")"
      ]
    },
    {
      "cell_type": "code",
      "source": [
        "#Практическая работа №4\n",
        "#Вариант №8\n",
        "#Даны два целых числа A и B (A < B). Найти сумму квадратов всех целых чисел от A до B включительно.\n",
        "\n",
        "import math\n",
        "def proverka(znach): #проверка исключений\n",
        "    while type(znach) !=int:\n",
        "        try:\n",
        "            znach = int(znach)\n",
        "        except ValueError:\n",
        "            print(\"Вы ввели некорректное значение\")\n",
        "            znach = input(\"Введи правильное значение\")\n",
        "    else:\n",
        "        return znach\n",
        "a = input(\"Введите первое значение\") #ввод исходных значений\n",
        "a = proverka(a)\n",
        "b = input(\"Введите второе значение\")\n",
        "b = proverka(b)\n",
        "summa = a**2\n",
        "while a<b: #нахождение суммы квадратов\n",
        "    a += 1\n",
        "    summa = summa + a**2\n",
        "print(summa)"
      ],
      "metadata": {
        "colab": {
          "base_uri": "https://localhost:8080/"
        },
        "id": "YkVlBMOqB689",
        "outputId": "1d09c61f-018e-4200-83dd-ac0fc2e7b5fa"
      },
      "execution_count": 2,
      "outputs": [
        {
          "output_type": "stream",
          "name": "stdout",
          "text": [
            "Введите первое значение12\n",
            "Введите второе значение34\n",
            "13179\n"
          ]
        }
      ]
    },
    {
      "cell_type": "code",
      "source": [
        "#Практическая работа №5\n",
        "# Вариант 8\n",
        "#Составить программу, в которой функцию построит изображение, в котором в первой\n",
        "#строке 1 звездочка, во второй - 2, в третьей -3, ..., в строке с номером m - m звездочек\n",
        "\n",
        "def risunok(schet): #функция, прибавляющая по одной звездочке каждую итерацию цикла\n",
        "    i = 0\n",
        "    schet = int(schet)\n",
        "    while i <= schet:\n",
        "        print(\"*\" * i)\n",
        "        i += 1\n",
        "\n",
        "\n",
        "a = input(\"Введите количество звездочек: \")\n",
        "risunok(a)"
      ],
      "metadata": {
        "id": "cM1-wjdgCDy5"
      },
      "execution_count": null,
      "outputs": []
    }
  ]
}